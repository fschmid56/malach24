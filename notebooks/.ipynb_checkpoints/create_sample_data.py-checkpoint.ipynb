{
 "cells": [
  {
   "cell_type": "code",
   "execution_count": 2,
   "id": "4afd2ec0",
   "metadata": {},
   "outputs": [],
   "source": [
    "tau_path = \"/share/rk6/shared/dcase22/TAU-urban-acoustic-scenes-2022-mobile-development\"\n",
    "dest_path = \"/home/florian/malach23-pipeline/datasets/example_data\""
   ]
  },
  {
   "cell_type": "code",
   "execution_count": 13,
   "id": "9a14fdb9",
   "metadata": {},
   "outputs": [],
   "source": [
    "# extract random filenames\n",
    "import os\n",
    "import numpy as np\n",
    "files = np.array(os.listdir(os.path.join(tau_path, \"audio\")))\n",
    "sample_indices = np.random.randint(0, len(files), size=200)\n",
    "sample_files = files[sample_indices]"
   ]
  },
  {
   "cell_type": "code",
   "execution_count": 16,
   "id": "29821ade",
   "metadata": {},
   "outputs": [],
   "source": [
    "# copy files to dest_path\n",
    "import shutil\n",
    "for file in sample_files:\n",
    "    src = os.path.join(tau_path, \"audio\", file)\n",
    "    dst = os.path.join(dest_path, \"audio\", file)\n",
    "    shutil.copyfile(src, dst)"
   ]
  },
  {
   "cell_type": "code",
   "execution_count": 36,
   "id": "304038a4",
   "metadata": {},
   "outputs": [],
   "source": [
    "# copy meta.csv entries to dest_path\n",
    "import pandas as pd\n",
    "df = pd.read_csv(os.path.join(tau_path, \"meta.csv\"), sep=\"\\t\")\n",
    "df = df[df['filename'].isin([os.path.join(\"audio\", f) for f in sample_files])]\n",
    "df = df.reset_index(drop=True)\n",
    "df = df[['filename', 'scene_label']]\n",
    "df.to_csv(os.path.join(dest_path, \"meta.csv\"))"
   ]
  },
  {
   "cell_type": "code",
   "execution_count": 47,
   "id": "da188110",
   "metadata": {},
   "outputs": [],
   "source": [
    "# create train and test folds\n",
    "train_df = df[:120].reset_index(drop=True)\n",
    "test_df = df[120:].reset_index(drop=True)\n",
    "train_df.to_csv(os.path.join(dest_path, \"train.csv\"))\n",
    "test_df.to_csv(os.path.join(dest_path, \"test.csv\"))"
   ]
  },
  {
   "cell_type": "code",
   "execution_count": 46,
   "id": "008f54ac",
   "metadata": {},
   "outputs": [
    {
     "data": {
      "text/html": [
       "<div>\n",
       "<style scoped>\n",
       "    .dataframe tbody tr th:only-of-type {\n",
       "        vertical-align: middle;\n",
       "    }\n",
       "\n",
       "    .dataframe tbody tr th {\n",
       "        vertical-align: top;\n",
       "    }\n",
       "\n",
       "    .dataframe thead th {\n",
       "        text-align: right;\n",
       "    }\n",
       "</style>\n",
       "<table border=\"1\" class=\"dataframe\">\n",
       "  <thead>\n",
       "    <tr style=\"text-align: right;\">\n",
       "      <th></th>\n",
       "      <th>filename</th>\n",
       "      <th>scene_label</th>\n",
       "    </tr>\n",
       "  </thead>\n",
       "  <tbody>\n",
       "    <tr>\n",
       "      <th>100</th>\n",
       "      <td>audio/street_traffic-vienna-176-5413-4-s1.wav</td>\n",
       "      <td>street_traffic</td>\n",
       "    </tr>\n",
       "    <tr>\n",
       "      <th>101</th>\n",
       "      <td>audio/street_traffic-london-167-5120-7-s3.wav</td>\n",
       "      <td>street_traffic</td>\n",
       "    </tr>\n",
       "    <tr>\n",
       "      <th>102</th>\n",
       "      <td>audio/tram-prague-1042-40846-2-a.wav</td>\n",
       "      <td>tram</td>\n",
       "    </tr>\n",
       "    <tr>\n",
       "      <th>103</th>\n",
       "      <td>audio/tram-lyon-1150-41115-5-a.wav</td>\n",
       "      <td>tram</td>\n",
       "    </tr>\n",
       "    <tr>\n",
       "      <th>104</th>\n",
       "      <td>audio/tram-lisbon-1046-41687-3-a.wav</td>\n",
       "      <td>tram</td>\n",
       "    </tr>\n",
       "    <tr>\n",
       "      <th>...</th>\n",
       "      <td>...</td>\n",
       "      <td>...</td>\n",
       "    </tr>\n",
       "    <tr>\n",
       "      <th>195</th>\n",
       "      <td>audio/street_traffic-stockholm-173-5324-9-s5.wav</td>\n",
       "      <td>street_traffic</td>\n",
       "    </tr>\n",
       "    <tr>\n",
       "      <th>196</th>\n",
       "      <td>audio/street_traffic-vienna-176-5415-5-s6.wav</td>\n",
       "      <td>street_traffic</td>\n",
       "    </tr>\n",
       "    <tr>\n",
       "      <th>197</th>\n",
       "      <td>audio/tram-milan-1222-45536-0-a.wav</td>\n",
       "      <td>tram</td>\n",
       "    </tr>\n",
       "    <tr>\n",
       "      <th>198</th>\n",
       "      <td>audio/tram-vienna-285-8635-2-a.wav</td>\n",
       "      <td>tram</td>\n",
       "    </tr>\n",
       "    <tr>\n",
       "      <th>199</th>\n",
       "      <td>audio/tram-helsinki-183-5706-1-s5.wav</td>\n",
       "      <td>tram</td>\n",
       "    </tr>\n",
       "  </tbody>\n",
       "</table>\n",
       "<p>100 rows × 2 columns</p>\n",
       "</div>"
      ],
      "text/plain": [
       "                                             filename     scene_label\n",
       "100     audio/street_traffic-vienna-176-5413-4-s1.wav  street_traffic\n",
       "101     audio/street_traffic-london-167-5120-7-s3.wav  street_traffic\n",
       "102              audio/tram-prague-1042-40846-2-a.wav            tram\n",
       "103                audio/tram-lyon-1150-41115-5-a.wav            tram\n",
       "104              audio/tram-lisbon-1046-41687-3-a.wav            tram\n",
       "..                                                ...             ...\n",
       "195  audio/street_traffic-stockholm-173-5324-9-s5.wav  street_traffic\n",
       "196     audio/street_traffic-vienna-176-5415-5-s6.wav  street_traffic\n",
       "197               audio/tram-milan-1222-45536-0-a.wav            tram\n",
       "198                audio/tram-vienna-285-8635-2-a.wav            tram\n",
       "199             audio/tram-helsinki-183-5706-1-s5.wav            tram\n",
       "\n",
       "[100 rows x 2 columns]"
      ]
     },
     "execution_count": 46,
     "metadata": {},
     "output_type": "execute_result"
    }
   ],
   "source": [
    "test_df"
   ]
  },
  {
   "cell_type": "code",
   "execution_count": null,
   "id": "6ba7c91a",
   "metadata": {},
   "outputs": [],
   "source": []
  }
 ],
 "metadata": {
  "kernelspec": {
   "display_name": "Python 3 (ipykernel)",
   "language": "python",
   "name": "python3"
  },
  "language_info": {
   "codemirror_mode": {
    "name": "ipython",
    "version": 3
   },
   "file_extension": ".py",
   "mimetype": "text/x-python",
   "name": "python",
   "nbconvert_exporter": "python",
   "pygments_lexer": "ipython3",
   "version": "3.8.16"
  }
 },
 "nbformat": 4,
 "nbformat_minor": 5
}
